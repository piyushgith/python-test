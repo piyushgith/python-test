{
 "cells": [
  {
   "cell_type": "code",
   "execution_count": null,
   "metadata": {},
   "outputs": [],
   "source": [
    "print('Hello World!')"
   ]
  },
  {
   "cell_type": "code",
   "execution_count": null,
   "metadata": {},
   "outputs": [],
   "source": [
    "# If statements don't need parentheses \n",
    "# or curly braces.\n",
    "n = 1\n",
    "if n > 2:\n",
    "    n -= 1\n",
    "elif n == 2:\n",
    "    n *= 2\n",
    "else:\n",
    "    n += 2"
   ]
  },
  {
   "cell_type": "markdown",
   "metadata": {},
   "source": [
    "### Loops"
   ]
  },
  {
   "cell_type": "code",
   "execution_count": null,
   "metadata": {},
   "outputs": [],
   "source": [
    "n = 5\n",
    "while n < 5:\n",
    "    print(n)\n",
    "    n += 1\n",
    "    \n",
    "print(\"==============================================\")\n",
    "# Looping from i = 0 to i = 4\n",
    "for i in range(5):\n",
    "    print(i)\n",
    "print(\"==============================================\")    \n",
    "\n",
    "# Looping from i = 2 to i = 5\n",
    "for i in range(2, 6):\n",
    "    print(i)\n",
    "print(\"==============================================\")\n",
    "\n",
    "# Looping from i = 5 to i = 2\n",
    "for i in range(5, 1, -1):\n",
    "    print(i)\n",
    "print(\"==============================================\")    "
   ]
  },
  {
   "cell_type": "code",
   "execution_count": null,
   "metadata": {},
   "outputs": [],
   "source": [
    "# Division is decimal by default\n",
    "print(5 / 2)\n",
    "\n",
    "# Double slash rounds down\n",
    "print(5 // 2)\n",
    "\n",
    "# CAREFUL: most languages round towards 0 by default\n",
    "# So negative numbers will round down\n",
    "print(-3 // 2)\n",
    "\n",
    "# A workaround for rounding towards zero\n",
    "# is to use decimal division and then convert to int.\n",
    "print(int(-3 / 2))\n",
    "\n",
    "\n",
    "# Modding is similar to most languages\n",
    "print(10 % 3)\n",
    "print(\"==============================================\")\n",
    "\n",
    "# Except for negative values\n",
    "print(-10 % 3)\n",
    "print(-10 % -3)\n",
    "# To be consistent with other languages modulo\n",
    "import math\n",
    "from multiprocessing import heap\n",
    "print(math.fmod(-10, 3))\n",
    "\n",
    "# More math helpers\n",
    "print(math.floor(3 / 2))\n",
    "print(math.ceil(3 / 2))\n",
    "print(math.sqrt(2))\n",
    "print(math.pow(2, 3))\n",
    "\n",
    "print(\"==============================================\")\n",
    "# Max / Min Int\n",
    "float(\"inf\")\n",
    "float(\"-inf\")\n",
    "\n",
    "# Python numbers are infinite so they never overflow\n",
    "print(math.pow(2, 200))\n",
    "\n",
    "# But still less than infinity\n",
    "print(math.pow(2, 200) < float(\"inf\"))\n"
   ]
  }
 ],
 "metadata": {
  "kernelspec": {
   "display_name": "Python 3",
   "language": "python",
   "name": "python3"
  },
  "language_info": {
   "codemirror_mode": {
    "name": "ipython",
    "version": 3
   },
   "file_extension": ".py",
   "mimetype": "text/x-python",
   "name": "python",
   "nbconvert_exporter": "python",
   "pygments_lexer": "ipython3",
   "version": "3.12.6"
  }
 },
 "nbformat": 4,
 "nbformat_minor": 2
}
